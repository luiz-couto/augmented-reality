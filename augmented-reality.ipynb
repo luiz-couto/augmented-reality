{
 "cells": [
  {
   "cell_type": "markdown",
   "metadata": {},
   "source": [
    "# Realidade Aumentada\n",
    "O objetivo deste trabalho é detectar e localizar alvos nos quadros (frames) de um vídeo e inserir na cena objetos tridimensionais acima de cada alvo detectado. Para este trabalho, o objeto tridimensional será um cubo tridimensional e um modelo 3D (o Pikachu). Para isso, o trabalho será divido nas seguintes etapas:\n",
    "\n",
    "1. Estimativa dos parâmetros intrínsecos da câmera"
   ]
  },
  {
   "cell_type": "markdown",
   "metadata": {},
   "source": [
    "## Estimativa dos parâmetros intrísecos da câmera\n",
    "Para realizar essa etapa, será utilizado o Octave. Primeiramente, carregamos os frames do vídeo para o programa."
   ]
  }
 ],
 "metadata": {
  "language_info": {
   "name": "python"
  },
  "orig_nbformat": 4
 },
 "nbformat": 4,
 "nbformat_minor": 2
}
